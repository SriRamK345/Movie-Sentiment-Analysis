{
  "nbformat": 4,
  "nbformat_minor": 0,
  "metadata": {
    "colab": {
      "private_outputs": true,
      "provenance": [],
      "mount_file_id": "1lAFQ6Ku8CDxr9GMv1-6f1dbEKYcaTRZV",
      "authorship_tag": "ABX9TyObopAfMZ4ZkIu3CIHpev/T",
      "include_colab_link": true
    },
    "kernelspec": {
      "name": "python3",
      "display_name": "Python 3"
    },
    "language_info": {
      "name": "python"
    }
  },
  "cells": [
    {
      "cell_type": "markdown",
      "metadata": {
        "id": "view-in-github",
        "colab_type": "text"
      },
      "source": [
        "<a href=\"https://colab.research.google.com/github/SriRamK345/Movie-Sentiment-Analysis/blob/main/Movie_Sentiment_Analysis.ipynb\" target=\"_parent\"><img src=\"https://colab.research.google.com/assets/colab-badge.svg\" alt=\"Open In Colab\"/></a>"
      ]
    },
    {
      "cell_type": "code",
      "execution_count": null,
      "metadata": {
        "id": "qGXeB0AOn2z9"
      },
      "outputs": [],
      "source": [
        "! mkdir ~/.kaggle"
      ]
    },
    {
      "cell_type": "code",
      "source": [
        "! cp \"/content/drive/MyDrive/kaggle.json\" ~/.kaggle/kaggle.json"
      ],
      "metadata": {
        "id": "_J-LCTKSn7st"
      },
      "execution_count": null,
      "outputs": []
    },
    {
      "cell_type": "code",
      "source": [
        "! kaggle datasets download nltkdata/movie-review"
      ],
      "metadata": {
        "id": "gMAaQEm8n8is"
      },
      "execution_count": null,
      "outputs": []
    },
    {
      "cell_type": "code",
      "source": [
        "! unzip /content/movie-review.zip"
      ],
      "metadata": {
        "id": "SEfUoZRwn8oj"
      },
      "execution_count": null,
      "outputs": []
    },
    {
      "cell_type": "code",
      "source": [
        "import pandas as pd\n",
        "import numpy as np\n",
        "import warnings\n",
        "# Settings the warnings to be ignored\n",
        "warnings.filterwarnings(\"ignore\")\n",
        "import re"
      ],
      "metadata": {
        "id": "wPX88AB00BXR"
      },
      "execution_count": null,
      "outputs": []
    },
    {
      "cell_type": "code",
      "source": [
        "df = pd.read_csv(\"/content/movie_review.csv\")\n",
        "df.head()"
      ],
      "metadata": {
        "id": "wyUvvmX1yYPE"
      },
      "execution_count": null,
      "outputs": []
    },
    {
      "cell_type": "code",
      "source": [
        "df.tag.unique()"
      ],
      "metadata": {
        "id": "2GhHa2uMxyJw"
      },
      "execution_count": null,
      "outputs": []
    },
    {
      "cell_type": "markdown",
      "source": [
        "## Data Preprocessing"
      ],
      "metadata": {
        "id": "b7GYumH24nLU"
      }
    },
    {
      "cell_type": "code",
      "source": [
        "# Contraction Map\n",
        "CONTRACTION_MAP = {\n",
        "\"ain't\": \"is not\",\n",
        "\"aren't\": \"are not\",\n",
        "\"can't\": \"cannot\",\n",
        "\"can't've\": \"cannot have\",\n",
        "\"'cause\": \"because\",\n",
        "\"could've\": \"could have\",\n",
        "\"couldn't\": \"could not\",\n",
        "\"couldn't've\": \"could not have\",\n",
        "\"didn't\": \"did not\",\n",
        "\"doesn't\": \"does not\",\n",
        "\"don't\": \"do not\",\n",
        "\"hadn't\": \"had not\",\n",
        "\"hadn't've\": \"had not have\",\n",
        "\"hasn't\": \"has not\",\n",
        "\"haven't\": \"have not\",\n",
        "\"he'd\": \"he would\",\n",
        "\"he'd've\": \"he would have\",\n",
        "\"he'll\": \"he will\",\n",
        "\"he'll've\": \"he will have\",\n",
        "\"he's\": \"he is\",\n",
        "\"how'd\": \"how did\",\n",
        "\"how'd'y\": \"how do you\",\n",
        "\"how'll\": \"how will\",\n",
        "\"how's\": \"how is\",\n",
        "\"I'd\": \"I would\",\n",
        "\"I'd've\": \"I would have\",\n",
        "\"I'll\": \"I will\",\n",
        "\"I'll've\": \"I will have\",\n",
        "\"I'm\": \"I am\",\n",
        "\"I've\": \"I have\",\n",
        "\"i'd\": \"i would\",\n",
        "\"i'd've\": \"i would have\",\n",
        "\"i'll\": \"i will\",\n",
        "\"i'll've\": \"i will have\",\n",
        "\"i'm\": \"i am\",\n",
        "\"i've\": \"i have\",\n",
        "\"isn't\": \"is not\",\n",
        "\"it'd\": \"it would\",\n",
        "\"it'd've\": \"it would have\",\n",
        "\"it'll\": \"it will\",\n",
        "\"it'll've\": \"it will have\",\n",
        "\"it's\": \"it is\",\n",
        "\"let's\": \"let us\",\n",
        "\"ma'am\": \"madam\",\n",
        "\"mayn't\": \"may not\",\n",
        "\"might've\": \"might have\",\n",
        "\"mightn't\": \"might not\",\n",
        "\"mightn't've\": \"might not have\",\n",
        "\"must've\": \"must have\",\n",
        "\"mustn't\": \"must not\",\n",
        "\"mustn't've\": \"must not have\",\n",
        "\"needn't\": \"need not\",\n",
        "\"needn't've\": \"need not have\",\n",
        "\"o'clock\": \"of the clock\",\n",
        "\"oughtn't\": \"ought not\",\n",
        "\"oughtn't've\": \"ought not have\",\n",
        "\"shan't\": \"shall not\",\n",
        "\"sha'n't\": \"shall not\",\n",
        "\"shan't've\": \"shall not have\",\n",
        "\"she'd\": \"she would\",\n",
        "\"she'd've\": \"she would have\",\n",
        "\"she'll\": \"she will\",\n",
        "\"she'll've\": \"she will have\",\n",
        "\"she's\": \"she is\",\n",
        "\"should've\": \"should have\",\n",
        "\"shouldn't\": \"should not\",\n",
        "\"shouldn't've\": \"should not have\",\n",
        "\"so've\": \"so have\",\n",
        "\"so's\": \"so as\",\n",
        "\"that'd\": \"that would\",\n",
        "\"that'd've\": \"that would have\",\n",
        "\"that's\": \"that is\",\n",
        "\"there'd\": \"there would\",\n",
        "\"there'd've\": \"there would have\",\n",
        "\"there's\": \"there is\",\n",
        "\"they'd\": \"they would\",\n",
        "\"they'd've\": \"they would have\",\n",
        "\"they'll\": \"they will\",\n",
        "\"they'll've\": \"they will have\",\n",
        "\"they're\": \"they are\",\n",
        "\"they've\": \"they have\",\n",
        "\"to've\": \"to have\",\n",
        "\"wasn't\": \"was not\",\n",
        "\"we'd\": \"we would\",\n",
        "\"we'd've\": \"we would have\",\n",
        "\"we'll\": \"we will\",\n",
        "\"we'll've\": \"we will have\",\n",
        "\"we're\": \"we are\",\n",
        "\"we've\": \"we have\",\n",
        "\"weren't\": \"were not\",\n",
        "\"what'll\": \"what will\",\n",
        "\"what'll've\": \"what will have\",\n",
        "\"what're\": \"what are\",\n",
        "\"what's\": \"what is\",\n",
        "\"what've\": \"what have\",\n",
        "\"when's\": \"when is\",\n",
        "\"when've\": \"when have\",\n",
        "\"where'd\": \"where did\",\n",
        "\"where's\": \"where is\",\n",
        "\"where've\": \"where have\",\n",
        "\"who'll\": \"who will\",\n",
        "\"who'll've\": \"who will have\",\n",
        "\"who's\": \"who is\",\n",
        "\"who've\": \"who have\",\n",
        "\"why's\": \"why is\",\n",
        "\"why've\": \"why have\",\n",
        "\"will've\": \"will have\",\n",
        "\"won't\": \"will not\",\n",
        "\"won't've\": \"will not have\",\n",
        "\"would've\": \"would have\",\n",
        "\"wouldn't\": \"would not\",\n",
        "\"wouldn't've\": \"would not have\",\n",
        "\"y'all\": \"you all\",\n",
        "\"y'all'd\": \"you all would\",\n",
        "\"y'all'd've\": \"you all would have\",\n",
        "\"y'all're\": \"you all are\",\n",
        "\"y'all've\": \"you all have\",\n",
        "\"you'd\": \"you would\",\n",
        "\"you'd've\": \"you would have\",\n",
        "\"you'll\": \"you will\",\n",
        "\"you'll've\": \"you will have\",\n",
        "\"you're\": \"you are\",\n",
        "\"you've\": \"you have\"\n",
        "}\n"
      ],
      "metadata": {
        "id": "Pw0MuMOY4n6T"
      },
      "execution_count": null,
      "outputs": []
    },
    {
      "cell_type": "code",
      "source": [
        "def expand_contractions(text, contraction_mapping=CONTRACTION_MAP):\n",
        "\n",
        "    contractions_pattern = re.compile(\"({})\".format(\"|\".join(contraction_mapping.keys())),\n",
        "                                      flags=re.IGNORECASE|re.DOTALL)\n",
        "    def expand_match(contraction):\n",
        "        match = contraction.group(0)\n",
        "        first_char = match[0]\n",
        "        expanded_contraction = contraction_mapping.get(match)\\\n",
        "                                if contraction_mapping.get(match)\\\n",
        "                                else contraction_mapping.get(match.lower())\n",
        "        expanded_contraction = first_char+expanded_contraction[1:]\n",
        "        return expanded_contraction\n",
        "\n",
        "    expanded_text = contractions_pattern.sub(expand_match, text)\n",
        "    expanded_text = re.sub(\" ' \", \"\", expanded_text)\n",
        "    return expanded_text\n",
        "\n",
        "df[\"text_comp\"] = df[\"text\"].apply(expand_contractions)"
      ],
      "metadata": {
        "id": "d3Ijg_VxzG0_"
      },
      "execution_count": null,
      "outputs": []
    },
    {
      "cell_type": "code",
      "source": [
        "df[\"text_comp\"]"
      ],
      "metadata": {
        "id": "NKChxymL4mgf"
      },
      "execution_count": null,
      "outputs": []
    },
    {
      "cell_type": "markdown",
      "source": [
        "### Removing Special Characters"
      ],
      "metadata": {
        "id": "bMsETCC35M72"
      }
    },
    {
      "cell_type": "code",
      "source": [
        "import string\n",
        "import nltk # this needs to be explictly imported\n",
        "from nltk.corpus import stopwords\n",
        "from nltk.stem import WordNetLemmatizer"
      ],
      "metadata": {
        "id": "N-H7qKGcGXz2"
      },
      "execution_count": null,
      "outputs": []
    },
    {
      "cell_type": "code",
      "source": [
        "nltk.download(\"stopwords\")\n",
        "nltk.download(\"wordnet\")"
      ],
      "metadata": {
        "id": "2fDFoX-4Gf6L"
      },
      "execution_count": null,
      "outputs": []
    },
    {
      "cell_type": "code",
      "source": [
        "stop_words = set(stopwords.words(\"english\"))\n",
        "lemmatizer = WordNetLemmatizer()\n",
        "number_pattern = re.compile(r\"\\d+\")\n",
        "\n",
        "def preprocess_test(text):\n",
        "  text = number_pattern.sub(\"\", text)  # Remove numbers\n",
        "  text = text.translate(str.maketrans(\"\", \"\", string.punctuation)).lower()  # Remove punctuation and lowercase\n",
        "  text = [lemmatizer.lemmatize(word) for word in text.split() if word not in stop_words] # Lemmatization & stop word removal\n",
        "  return \" \".join(text)\n",
        "\n",
        "df[\"text_pro\"] = df[\"text\"].apply(preprocess_test)"
      ],
      "metadata": {
        "id": "mxCSvuQazD3n"
      },
      "execution_count": null,
      "outputs": []
    },
    {
      "cell_type": "code",
      "source": [
        "df[\"text_pro\"]"
      ],
      "metadata": {
        "id": "e9xOm21M4mjC"
      },
      "execution_count": null,
      "outputs": []
    },
    {
      "cell_type": "code",
      "source": [
        "X = df[\"text_pro\"]\n",
        "y = df[\"tag\"]"
      ],
      "metadata": {
        "id": "LNZcpFfBGstg"
      },
      "execution_count": null,
      "outputs": []
    },
    {
      "cell_type": "code",
      "source": [
        "from sklearn.model_selection import train_test_split\n",
        "X_train, X_test, y_train, y_test = train_test_split(X, y, test_size=0.2, random_state=42)"
      ],
      "metadata": {
        "id": "J9FYD6HKNTFs"
      },
      "execution_count": null,
      "outputs": []
    },
    {
      "cell_type": "code",
      "source": [
        "from sklearn.pipeline import Pipeline\n",
        "from sklearn.feature_extraction.text import TfidfVectorizer\n",
        "from sklearn.naive_bayes import MultinomialNB\n",
        "from sklearn.metrics import confusion_matrix,classification_report"
      ],
      "metadata": {
        "id": "SmrY7FK8NM32"
      },
      "execution_count": null,
      "outputs": []
    },
    {
      "cell_type": "code",
      "source": [
        "# Pipeline\n",
        "pipe = Pipeline([(\"tfidf\", TfidfVectorizer()), (\"cNB\", MultinomialNB())])"
      ],
      "metadata": {
        "id": "jmVQt7c2t5xR"
      },
      "execution_count": null,
      "outputs": []
    },
    {
      "cell_type": "code",
      "source": [
        "# Visualize Pipeline\n",
        "from sklearn import set_config\n",
        "set_config(display=\"diagram\")"
      ],
      "metadata": {
        "id": "TUrO2HIu14G4"
      },
      "execution_count": null,
      "outputs": []
    },
    {
      "cell_type": "code",
      "source": [
        "pipe"
      ],
      "metadata": {
        "id": "SvZhsOi92Ef9"
      },
      "execution_count": null,
      "outputs": []
    },
    {
      "cell_type": "code",
      "source": [
        "pipe.fit(X_train, y_train)\n",
        "y_pred = pipe.predict(X_test)"
      ],
      "metadata": {
        "id": "7rwUXcPgN5ml"
      },
      "execution_count": null,
      "outputs": []
    },
    {
      "cell_type": "code",
      "source": [
        "df.tag.value_counts()"
      ],
      "metadata": {
        "id": "VwpWvr7A78wL"
      },
      "execution_count": null,
      "outputs": []
    },
    {
      "cell_type": "markdown",
      "source": [],
      "metadata": {
        "id": "N59xsPzR7eSB"
      }
    },
    {
      "cell_type": "code",
      "source": [
        "# Evaluation\n",
        "\n",
        "print(classification_report(y_test, y_pred))"
      ],
      "metadata": {
        "id": "hEF3S10e7eZb"
      },
      "execution_count": null,
      "outputs": []
    },
    {
      "cell_type": "code",
      "source": [
        "# confusion\n",
        "confusion_matrix(y_test, y_pred)"
      ],
      "metadata": {
        "id": "C0PThc2TCe9a"
      },
      "execution_count": null,
      "outputs": []
    },
    {
      "cell_type": "code",
      "source": [
        "# visulization\n",
        "import seaborn as sns\n",
        "sns.heatmap(confusion_matrix(y_test, y_pred), annot=True, fmt=\"d\")"
      ],
      "metadata": {
        "id": "4t2TqyRlCjjI"
      },
      "execution_count": null,
      "outputs": []
    },
    {
      "cell_type": "code",
      "source": [
        "from wordcloud import WordCloud\n",
        "import matplotlib.pyplot as plt\n",
        "\n",
        "words_list = df[df[\"tag\"]==\"pos\"][\"text\"].unique().tolist()\n",
        "positive_words = \" \".join(words_list)\n",
        "\n",
        "pos_wordcloud =  WordCloud(\n",
        "                  width=500, height = 300,\n",
        "                  stopwords=stop_words).generate(positive_words)\n",
        "\n",
        "plt.figure(figsize=(8, 8), facecolor = None)\n",
        "plt.imshow(pos_wordcloud)\n",
        "plt.axis(\"off\")\n",
        "plt.tight_layout(pad=0)\n",
        "plt.title(\"Positive Words\")\n",
        "plt.show()"
      ],
      "metadata": {
        "id": "745VngtHyQf5"
      },
      "execution_count": null,
      "outputs": []
    },
    {
      "cell_type": "code",
      "source": [
        "words_list = df[df[\"tag\"]==\"neg\"][\"text\"].unique().tolist()\n",
        "negative_words = \" \".join(words_list)\n",
        "\n",
        "neg_wordcloud =  WordCloud(\n",
        "                  width=500, height = 300,\n",
        "                  stopwords=stop_words).generate(negative_words)\n",
        "\n",
        "plt.figure(figsize=(8, 8), facecolor = None)\n",
        "plt.imshow(neg_wordcloud)\n",
        "plt.axis(\"off\")\n",
        "plt.tight_layout(pad=0)\n",
        "plt.title(\"Negative Words\")\n",
        "plt.show()"
      ],
      "metadata": {
        "id": "mjEwOLLB35ay"
      },
      "execution_count": null,
      "outputs": []
    },
    {
      "cell_type": "code",
      "source": [
        "sample1 = \"I loved this movie\"\n",
        "pipe.predict([sample1])"
      ],
      "metadata": {
        "id": "RiGKeFgI8VTL"
      },
      "execution_count": null,
      "outputs": []
    },
    {
      "cell_type": "code",
      "source": [
        "sample2 = \"movie was boring\"\n",
        "pipe.predict([sample2])"
      ],
      "metadata": {
        "id": "cKYOXknV8gDY"
      },
      "execution_count": null,
      "outputs": []
    },
    {
      "cell_type": "code",
      "source": [
        "list_sam = [\"I do not love this movie\", \"movie was boring\", \"movie is a rotten tomato\",\"entertaining well\"]\n",
        "pipe.predict(list_sam)"
      ],
      "metadata": {
        "id": "N-uTI5Ja8iiD"
      },
      "execution_count": null,
      "outputs": []
    },
    {
      "cell_type": "code",
      "source": [
        "df[[\"text\",\"text_comp\",\"text_pro\"]].head()"
      ],
      "metadata": {
        "id": "_CbADjTS99qy"
      },
      "execution_count": null,
      "outputs": []
    },
    {
      "cell_type": "code",
      "source": [
        "# Install spacy and download the English language model (if not already done):\n",
        "# !pip install spacy==3.6.1\n",
        "!python -m spacy download en_core_web_sm"
      ],
      "metadata": {
        "id": "GdNy4iL4DZ0F"
      },
      "execution_count": null,
      "outputs": []
    },
    {
      "cell_type": "code",
      "source": [
        "import spacy\n",
        "from spacy import displacy\n",
        "# Load spaCy's English language model:\n",
        "nlp = spacy.load(\"en_core_web_sm\")"
      ],
      "metadata": {
        "id": "-WH_Wsw5WVRJ"
      },
      "execution_count": null,
      "outputs": []
    },
    {
      "cell_type": "code",
      "source": [],
      "metadata": {
        "id": "PNJsrxxah3o7"
      },
      "execution_count": null,
      "outputs": []
    },
    {
      "source": [
        "def preprocess_text_spacy(text):\n",
        "    #text = expand_contractions(text)\n",
        "    doc = nlp(text)\n",
        "\n",
        "    # Create a list of stop words from spaCy's vocabulary:\n",
        "    stop_words = nlp.Defaults.stop_words\n",
        "\n",
        "    # Lemmatization, stop word removal, punctuation removal, and lowercasing:\n",
        "    text = [token.lemma_.lower() for token in doc\n",
        "            if token.text.lower() not in stop_words\n",
        "            and not token.is_punct\n",
        "            and token.text not in string.punctuation]\n",
        "\n",
        "    # Remove numbers:\n",
        "    number_pattern = re.compile(r\"\\d+\")\n",
        "    text = [word for word in text if not number_pattern.match(word)]\n",
        "\n",
        "    return \" \".join(text)\n",
        "\n",
        "# Apply the preprocessing function to your text data:\n",
        "df[\"text_pro_spacy\"] = df[\"text\"].apply(preprocess_text_spacy)"
      ],
      "cell_type": "code",
      "metadata": {
        "id": "qZNuV4hZKn4f"
      },
      "execution_count": null,
      "outputs": []
    },
    {
      "cell_type": "code",
      "source": [
        "df"
      ],
      "metadata": {
        "id": "a0YJerQOzYl4"
      },
      "execution_count": null,
      "outputs": []
    },
    {
      "cell_type": "code",
      "source": [
        "def preprocess_text(text):\n",
        "    \"\"\"\n",
        "    Preprocesses a single text by performing the following steps:\n",
        "    1. Lowercasing\n",
        "    2. Removing special characters and numbers\n",
        "    3. Tokenization\n",
        "    4. Removing stop words\n",
        "    5. Lemmatization\n",
        "    6. Removing short words (less than 3 characters)\n",
        "\n",
        "    Args:\n",
        "        text (str): The input text.\n",
        "\n",
        "    Returns:\n",
        "        str: The preprocessed text.\n",
        "    \"\"\"\n",
        "    # Convert to lowercase\n",
        "    text = text.lower()\n",
        "\n",
        "    # Remove special characters and numbers\n",
        "    text = re.sub(r\"[^a-zA-Z\\s]\", \"\", text)\n",
        "\n",
        "    # Process text using spaCy\n",
        "    doc = nlp(text)\n",
        "\n",
        "    # Tokenization, stop word removal, and lemmatization in one step\n",
        "    tokens = [token.lemma_ for token in doc if not token.is_stop]\n",
        "\n",
        "    # Join tokens back into a single string\n",
        "    return \" \".join(tokens)"
      ],
      "metadata": {
        "id": "Zh7nd5DSzZTt"
      },
      "execution_count": null,
      "outputs": []
    },
    {
      "cell_type": "code",
      "source": [
        "df[\"text_pro_spacy\"] = df[\"text\"].apply(preprocess_text)"
      ],
      "metadata": {
        "id": "1417VN7t0I3E"
      },
      "execution_count": null,
      "outputs": []
    },
    {
      "cell_type": "code",
      "source": [
        "df[[\"text\",\"text_pro\",\"text_pro_spacy\"]].tail()"
      ],
      "metadata": {
        "id": "EmBL8HzS3MqE"
      },
      "execution_count": null,
      "outputs": []
    },
    {
      "cell_type": "code",
      "source": [],
      "metadata": {
        "id": "5fesH1Og7li2"
      },
      "execution_count": null,
      "outputs": []
    }
  ]
}